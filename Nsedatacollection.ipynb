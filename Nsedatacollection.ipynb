{
 "cells": [
  {
   "cell_type": "code",
   "execution_count": null,
   "id": "ca3c8799-0347-4fdb-ac7c-6bbb3b124088",
   "metadata": {},
   "outputs": [],
   "source": [
    "import yfinance as yf\n",
    "import pandas as pd\n",
    "import numpy as np\n",
    "import os\n",
    "from datetime import date, timedelta\n",
    "import matplotlib.pyplot as plt\n",
    "# Calculate the start and end dates for the last 2 years\n",
    "end_date = date.today()\n",
    "start_date = end_date - timedelta(days=700)\n",
    "\n",
    "# Create directory for storing data if it doesn't exist\n",
    "os.makedirs('./data', exist_ok=True)\n",
    "\n",
    "# Load equity details\n",
    "equity_details = pd.read_csv('EQUITY_L.csv')\n",
    "\n",
    "# Download and save data for the first 200 stocks\n",
    "for name in equity_details.SYMBOL[:200]:\n",
    "    try:\n",
    "        data = yf.download(f'{name}.NS', start=start_date, end=end_date)\n",
    "        if not data.empty:\n",
    "            data.to_csv(f'./data/{name}.csv')\n",
    "        else:\n",
    "            print(f'No data found for {name}')\n",
    "    except Exception as e:\n",
    "        print(f'{name} ===> {e}')\n"
   ]
  }
 ],
 "metadata": {
  "kernelspec": {
   "display_name": "Python 3 (ipykernel)",
   "language": "python",
   "name": "python3"
  },
  "language_info": {
   "codemirror_mode": {
    "name": "ipython",
    "version": 3
   },
   "file_extension": ".py",
   "mimetype": "text/x-python",
   "name": "python",
   "nbconvert_exporter": "python",
   "pygments_lexer": "ipython3",
   "version": "3.12.7"
  }
 },
 "nbformat": 4,
 "nbformat_minor": 5
}
